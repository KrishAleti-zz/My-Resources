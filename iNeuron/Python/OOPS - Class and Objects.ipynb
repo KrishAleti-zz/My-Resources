{
 "cells": [
  {
   "cell_type": "markdown",
   "metadata": {},
   "source": [
    "11th April class:\n",
    "\n",
    "https://learn.ineuron.ai/lesson/11th-april-live-class-class-and-object/61b30b50b733d139bc0e9e7a/course/Full-Stack-Data-Science-Feb'21-Batch/61b30b40b733d139bc0e7fd5/batch/61b30b40b733d139bc0e6fe5"
   ]
  },
  {
   "cell_type": "markdown",
   "metadata": {},
   "source": [
    "here a is variable and it is a object of integer class"
   ]
  },
  {
   "cell_type": "code",
   "execution_count": 2,
   "metadata": {},
   "outputs": [],
   "source": [
    "a=7"
   ]
  },
  {
   "cell_type": "markdown",
   "metadata": {},
   "source": [
    "1. Class is classifiaction of entities\n",
    "2. the car brands are objects which belongs to class car, objects are variables of classes"
   ]
  },
  {
   "cell_type": "code",
   "execution_count": 4,
   "metadata": {},
   "outputs": [],
   "source": [
    "class Car: #created a class named car\n",
    "    pass"
   ]
  },
  {
   "cell_type": "code",
   "execution_count": 6,
   "metadata": {},
   "outputs": [],
   "source": [
    "audiq7=Car() #creating an object, variable of car class"
   ]
  },
  {
   "cell_type": "code",
   "execution_count": 7,
   "metadata": {},
   "outputs": [
    {
     "data": {
      "text/plain": [
       "<__main__.Car at 0x23b219f5640>"
      ]
     },
     "execution_count": 7,
     "metadata": {},
     "output_type": "execute_result"
    }
   ],
   "source": [
    "audiq7"
   ]
  },
  {
   "cell_type": "code",
   "execution_count": 9,
   "metadata": {},
   "outputs": [],
   "source": [
    "# creating few more variables - mileage,year,make\n",
    "audiq7.mileage = 10\n",
    "audiq7.year= 2020\n",
    "audiq7.make= 12"
   ]
  },
  {
   "cell_type": "markdown",
   "metadata": {},
   "source": [
    "I am creating the new variables here for the class which means I need to associate these variables to the class.\n",
    "\n",
    "How is that possible?\n",
    "\n",
    "I am associating the variables - mileage,year,make to audiq7 which is the variable of class.\n",
    " --- classvariable.newvariable or object.newvariable\n",
    "\n",
    "\n",
    "In this way, I am associating the new variables to the class."
   ]
  },
  {
   "cell_type": "code",
   "execution_count": 10,
   "metadata": {},
   "outputs": [
    {
     "data": {
      "text/plain": [
       "12"
      ]
     },
     "execution_count": 10,
     "metadata": {},
     "output_type": "execute_result"
    }
   ],
   "source": [
    "audiq7.make"
   ]
  },
  {
   "cell_type": "code",
   "execution_count": 11,
   "metadata": {},
   "outputs": [],
   "source": [
    "nano = Car() #created another object of the same Car class"
   ]
  },
  {
   "cell_type": "code",
   "execution_count": 17,
   "metadata": {},
   "outputs": [],
   "source": [
    "nano.mileage = 15\n",
    "nano.year= 2019\n",
    "nano.make= 13\n",
    "nano.color='black'"
   ]
  },
  {
   "cell_type": "code",
   "execution_count": 15,
   "metadata": {},
   "outputs": [
    {
     "data": {
      "text/plain": [
       "(2020, 'black', 2019)"
      ]
     },
     "execution_count": 15,
     "metadata": {},
     "output_type": "execute_result"
    }
   ],
   "source": [
    "audiq7.year,nano.color,nano.year"
   ]
  },
  {
   "cell_type": "markdown",
   "metadata": {},
   "source": [
    "Here we are creating varibales for qudiq7,nano seperately which means if there are 10 different car brands we need to create varibales for each of them seperately...\n",
    "\n",
    "To overcome this we have classes."
   ]
  },
  {
   "cell_type": "code",
   "execution_count": 16,
   "metadata": {},
   "outputs": [],
   "source": [
    "class Car1:\n",
    "    def __init__(self,mileage,year,make,color):\n",
    "        self.mileage=mileage\n",
    "        self.year=year\n",
    "        self.make=make\n",
    "        self.color=color"
   ]
  },
  {
   "cell_type": "markdown",
   "metadata": {},
   "source": [
    "### init & self"
   ]
  },
  {
   "cell_type": "markdown",
   "metadata": {},
   "source": [
    "1. __init__ function provides data to the class.\n",
    "Whenever a object is instantiated, init function get called.\n",
    "\n",
    "2. self points to class, and is a class variable.\n",
    "like we had given nano.year= 2019, nano.make= 13, here we give self.mileage=mileage(the value of mileage will be given by user)"
   ]
  },
  {
   "cell_type": "code",
   "execution_count": 18,
   "metadata": {},
   "outputs": [
    {
     "ename": "TypeError",
     "evalue": "__init__() missing 4 required positional arguments: 'mileage', 'year', 'make', and 'color'",
     "output_type": "error",
     "traceback": [
      "\u001b[1;31m---------------------------------------------------------------------------\u001b[0m",
      "\u001b[1;31mTypeError\u001b[0m                                 Traceback (most recent call last)",
      "\u001b[1;32m<ipython-input-18-bc752ea3f8a0>\u001b[0m in \u001b[0;36m<module>\u001b[1;34m\u001b[0m\n\u001b[1;32m----> 1\u001b[1;33m \u001b[0mnano1\u001b[0m\u001b[1;33m=\u001b[0m\u001b[0mCar1\u001b[0m\u001b[1;33m(\u001b[0m\u001b[1;33m)\u001b[0m\u001b[1;33m\u001b[0m\u001b[1;33m\u001b[0m\u001b[0m\n\u001b[0m",
      "\u001b[1;31mTypeError\u001b[0m: __init__() missing 4 required positional arguments: 'mileage', 'year', 'make', and 'color'"
     ]
    }
   ],
   "source": [
    "nano1=Car1()"
   ]
  },
  {
   "cell_type": "code",
   "execution_count": 20,
   "metadata": {},
   "outputs": [],
   "source": [
    "nano1=Car1(17,18,2022,'white')\n",
    "qudiq5=Car1(7,1,2021,'red')"
   ]
  },
  {
   "cell_type": "code",
   "execution_count": 21,
   "metadata": {},
   "outputs": [
    {
     "data": {
      "text/plain": [
       "'white'"
      ]
     },
     "execution_count": 21,
     "metadata": {},
     "output_type": "execute_result"
    }
   ],
   "source": [
    "nano1.color #here nano1.color equals self.color because both them are the class variable."
   ]
  },
  {
   "cell_type": "markdown",
   "metadata": {},
   "source": [
    "whatever functions defined in the class, will have the 1st parameter as the class variable, pointing to the class."
   ]
  },
  {
   "cell_type": "code",
   "execution_count": 23,
   "metadata": {},
   "outputs": [],
   "source": [
    "class Car2:\n",
    "    def __init__(mileage,year,make,color): #removed self, mileage now behaves as self.\n",
    "#whatever functions defined in the class, will have the 1st parameter as the class variable, pointing to the class.\n",
    "        self.mileage=mileage\n",
    "        self.year=year\n",
    "        self.make=make\n",
    "        self.color=color"
   ]
  },
  {
   "cell_type": "code",
   "execution_count": 25,
   "metadata": {},
   "outputs": [],
   "source": [
    "class Car3:\n",
    "    def __init__(a,mileage,year,make,color):\n",
    "#whatever functions defined in the class, will have the 1st parameter as the class variable, pointing to the class\n",
    "        a.mileage=mileage\n",
    "        a.year=year\n",
    "        a.make=make\n",
    "        a.color=color"
   ]
  },
  {
   "cell_type": "code",
   "execution_count": 26,
   "metadata": {},
   "outputs": [],
   "source": [
    "nano2=Car3(14,8,2012,'white')"
   ]
  },
  {
   "cell_type": "code",
   "execution_count": 28,
   "metadata": {},
   "outputs": [
    {
     "data": {
      "text/plain": [
       "2012"
      ]
     },
     "execution_count": 28,
     "metadata": {},
     "output_type": "execute_result"
    }
   ],
   "source": [
    "nano2.make"
   ]
  },
  {
   "cell_type": "code",
   "execution_count": 31,
   "metadata": {},
   "outputs": [
    {
     "name": "stdout",
     "output_type": "stream",
     "text": [
      "7\n"
     ]
    },
    {
     "ename": "AttributeError",
     "evalue": "'Car4' object has no attribute 'm'",
     "output_type": "error",
     "traceback": [
      "\u001b[1;31m---------------------------------------------------------------------------\u001b[0m",
      "\u001b[1;31mAttributeError\u001b[0m                            Traceback (most recent call last)",
      "\u001b[1;32m<ipython-input-31-a79031ff7242>\u001b[0m in \u001b[0;36m<module>\u001b[1;34m\u001b[0m\n\u001b[0;32m      9\u001b[0m \u001b[0mnano4\u001b[0m\u001b[1;33m=\u001b[0m\u001b[0mCar4\u001b[0m\u001b[1;33m(\u001b[0m\u001b[1;36m7\u001b[0m\u001b[1;33m,\u001b[0m\u001b[1;36m8\u001b[0m\u001b[1;33m,\u001b[0m\u001b[1;36m2012\u001b[0m\u001b[1;33m,\u001b[0m\u001b[1;34m'white'\u001b[0m\u001b[1;33m)\u001b[0m\u001b[1;33m\u001b[0m\u001b[1;33m\u001b[0m\u001b[0m\n\u001b[0;32m     10\u001b[0m \u001b[0mprint\u001b[0m\u001b[1;33m(\u001b[0m\u001b[0mnano4\u001b[0m\u001b[1;33m.\u001b[0m\u001b[0mmileage\u001b[0m\u001b[1;33m)\u001b[0m\u001b[1;33m\u001b[0m\u001b[1;33m\u001b[0m\u001b[0m\n\u001b[1;32m---> 11\u001b[1;33m \u001b[0mprint\u001b[0m\u001b[1;33m(\u001b[0m\u001b[0mnano4\u001b[0m\u001b[1;33m.\u001b[0m\u001b[0mm\u001b[0m\u001b[1;33m)\u001b[0m\u001b[1;33m\u001b[0m\u001b[1;33m\u001b[0m\u001b[0m\n\u001b[0m",
      "\u001b[1;31mAttributeError\u001b[0m: 'Car4' object has no attribute 'm'"
     ]
    }
   ],
   "source": [
    "class Car4:\n",
    "    def __init__(a,m,y,ma,c): #here m,y,ma,c are the arguments of the function (init---initialization function).\n",
    "#whatever functions defined in the class, will have the 1st parameter as the class variable, pointing to the class\n",
    "        a.mileage=m\n",
    "        a.year=y\n",
    "        a.make=ma\n",
    "        a.color=c\n",
    "        \n",
    "nano4=Car4(7,8,2012,'white')\n",
    "\n",
    "print(nano4.mileage)\n",
    "\n",
    "print(nano4.m)"
   ]
  },
  {
   "cell_type": "code",
   "execution_count": 4,
   "metadata": {},
   "outputs": [],
   "source": [
    "class Car7:\n",
    "    def __init__(a,m,y,ma,c): \n",
    "        a.mileage=m\n",
    "        a.year=y\n",
    "        a.make=ma\n",
    "        a.color=c\n",
    "    def age(self,current_year):\n",
    "        return current_year - a.year     #a.year\n",
    "nano7=Car7(7,2010,22,'white')"
   ]
  },
  {
   "cell_type": "code",
   "execution_count": 5,
   "metadata": {},
   "outputs": [
    {
     "data": {
      "text/plain": [
       "<bound method Car7.age of <__main__.Car7 object at 0x000002147D5AA6D0>>"
      ]
     },
     "execution_count": 5,
     "metadata": {},
     "output_type": "execute_result"
    }
   ],
   "source": [
    "nano7.age"
   ]
  },
  {
   "cell_type": "code",
   "execution_count": 6,
   "metadata": {},
   "outputs": [
    {
     "ename": "NameError",
     "evalue": "name 'a' is not defined",
     "output_type": "error",
     "traceback": [
      "\u001b[1;31m---------------------------------------------------------------------------\u001b[0m",
      "\u001b[1;31mNameError\u001b[0m                                 Traceback (most recent call last)",
      "\u001b[1;32m<ipython-input-6-004620c63ed5>\u001b[0m in \u001b[0;36m<module>\u001b[1;34m\u001b[0m\n\u001b[1;32m----> 1\u001b[1;33m \u001b[0mnano7\u001b[0m\u001b[1;33m.\u001b[0m\u001b[0mage\u001b[0m\u001b[1;33m(\u001b[0m\u001b[1;36m2022\u001b[0m\u001b[1;33m)\u001b[0m\u001b[1;33m\u001b[0m\u001b[1;33m\u001b[0m\u001b[0m\n\u001b[0m",
      "\u001b[1;32m<ipython-input-4-58860e188124>\u001b[0m in \u001b[0;36mage\u001b[1;34m(self, current_year)\u001b[0m\n\u001b[0;32m      6\u001b[0m         \u001b[0ma\u001b[0m\u001b[1;33m.\u001b[0m\u001b[0mcolor\u001b[0m\u001b[1;33m=\u001b[0m\u001b[0mc\u001b[0m\u001b[1;33m\u001b[0m\u001b[1;33m\u001b[0m\u001b[0m\n\u001b[0;32m      7\u001b[0m     \u001b[1;32mdef\u001b[0m \u001b[0mage\u001b[0m\u001b[1;33m(\u001b[0m\u001b[0mself\u001b[0m\u001b[1;33m,\u001b[0m\u001b[0mcurrent_year\u001b[0m\u001b[1;33m)\u001b[0m\u001b[1;33m:\u001b[0m\u001b[1;33m\u001b[0m\u001b[1;33m\u001b[0m\u001b[0m\n\u001b[1;32m----> 8\u001b[1;33m         \u001b[1;32mreturn\u001b[0m \u001b[0mcurrent_year\u001b[0m \u001b[1;33m-\u001b[0m \u001b[0ma\u001b[0m\u001b[1;33m.\u001b[0m\u001b[0myear\u001b[0m\u001b[1;33m\u001b[0m\u001b[1;33m\u001b[0m\u001b[0m\n\u001b[0m\u001b[0;32m      9\u001b[0m \u001b[0mnano7\u001b[0m\u001b[1;33m=\u001b[0m\u001b[0mCar7\u001b[0m\u001b[1;33m(\u001b[0m\u001b[1;36m7\u001b[0m\u001b[1;33m,\u001b[0m\u001b[1;36m2010\u001b[0m\u001b[1;33m,\u001b[0m\u001b[1;36m22\u001b[0m\u001b[1;33m,\u001b[0m\u001b[1;34m'white'\u001b[0m\u001b[1;33m)\u001b[0m\u001b[1;33m\u001b[0m\u001b[1;33m\u001b[0m\u001b[0m\n",
      "\u001b[1;31mNameError\u001b[0m: name 'a' is not defined"
     ]
    }
   ],
   "source": [
    "nano7.age(2022)"
   ]
  },
  {
   "cell_type": "markdown",
   "metadata": {},
   "source": [
    "In the above code we will get error because, a is part of init function (we used 'a' instead self) which the age function cannot understand.\n",
    "\n",
    "when we write self.year instead of a.year in age function, problem solved becasue self is the local pointer here.\n",
    "self took the role of pointer in age function."
   ]
  },
  {
   "cell_type": "code",
   "execution_count": 13,
   "metadata": {},
   "outputs": [
    {
     "data": {
      "text/plain": [
       "12"
      ]
     },
     "execution_count": 13,
     "metadata": {},
     "output_type": "execute_result"
    }
   ],
   "source": [
    "class Car7:\n",
    "    def __init__(a,m,y,ma,c): \n",
    "        a.mileage=m\n",
    "        a.year=y\n",
    "        a.make=ma\n",
    "        a.color=c\n",
    "    def age(self,current_year):\n",
    "        return current_year - self.year      #self.year \n",
    "\n",
    "nano7=Car7(7,2010,22,'white') \n",
    "nano7.age(2022)"
   ]
  },
  {
   "attachments": {
    "image.png": {
     "image/png": "[encoded data removed]"
    }
   },
   "cell_type": "markdown",
   "metadata": {},
   "source": [
    "![image.png](attachment:image.png)"
   ]
  },
  {
   "cell_type": "code",
   "execution_count": 14,
   "metadata": {},
   "outputs": [
    {
     "ename": "NameError",
     "evalue": "name 'self' is not defined",
     "output_type": "error",
     "traceback": [
      "\u001b[1;31m---------------------------------------------------------------------------\u001b[0m",
      "\u001b[1;31mNameError\u001b[0m                                 Traceback (most recent call last)",
      "\u001b[1;32m<ipython-input-14-7e80363017fa>\u001b[0m in \u001b[0;36m<module>\u001b[1;34m\u001b[0m\n\u001b[0;32m      8\u001b[0m         \u001b[1;32mreturn\u001b[0m \u001b[0mcurrent_year\u001b[0m \u001b[1;33m-\u001b[0m \u001b[0mself\u001b[0m\u001b[1;33m.\u001b[0m\u001b[0myear\u001b[0m      \u001b[1;31m#self.year\u001b[0m\u001b[1;33m\u001b[0m\u001b[1;33m\u001b[0m\u001b[0m\n\u001b[0;32m      9\u001b[0m \u001b[0mnano7\u001b[0m\u001b[1;33m=\u001b[0m\u001b[0mCar7\u001b[0m\u001b[1;33m(\u001b[0m\u001b[1;36m7\u001b[0m\u001b[1;33m,\u001b[0m\u001b[1;36m2010\u001b[0m\u001b[1;33m,\u001b[0m\u001b[1;36m22\u001b[0m\u001b[1;33m,\u001b[0m\u001b[1;34m'white'\u001b[0m\u001b[1;33m)\u001b[0m\u001b[1;33m\u001b[0m\u001b[1;33m\u001b[0m\u001b[0m\n\u001b[1;32m---> 10\u001b[1;33m \u001b[0mnano7\u001b[0m\u001b[1;33m.\u001b[0m\u001b[0mage\u001b[0m\u001b[1;33m(\u001b[0m\u001b[1;36m2022\u001b[0m\u001b[1;33m)\u001b[0m\u001b[1;33m\u001b[0m\u001b[1;33m\u001b[0m\u001b[0m\n\u001b[0m",
      "\u001b[1;32m<ipython-input-14-7e80363017fa>\u001b[0m in \u001b[0;36mage\u001b[1;34m(b, current_year)\u001b[0m\n\u001b[0;32m      6\u001b[0m         \u001b[0ma\u001b[0m\u001b[1;33m.\u001b[0m\u001b[0mcolor\u001b[0m\u001b[1;33m=\u001b[0m\u001b[0mc\u001b[0m\u001b[1;33m\u001b[0m\u001b[1;33m\u001b[0m\u001b[0m\n\u001b[0;32m      7\u001b[0m     \u001b[1;32mdef\u001b[0m \u001b[0mage\u001b[0m\u001b[1;33m(\u001b[0m\u001b[0mb\u001b[0m\u001b[1;33m,\u001b[0m\u001b[0mcurrent_year\u001b[0m\u001b[1;33m)\u001b[0m\u001b[1;33m:\u001b[0m\u001b[1;33m\u001b[0m\u001b[1;33m\u001b[0m\u001b[0m\n\u001b[1;32m----> 8\u001b[1;33m         \u001b[1;32mreturn\u001b[0m \u001b[0mcurrent_year\u001b[0m \u001b[1;33m-\u001b[0m \u001b[0mself\u001b[0m\u001b[1;33m.\u001b[0m\u001b[0myear\u001b[0m      \u001b[1;31m#self.year\u001b[0m\u001b[1;33m\u001b[0m\u001b[1;33m\u001b[0m\u001b[0m\n\u001b[0m\u001b[0;32m      9\u001b[0m \u001b[0mnano7\u001b[0m\u001b[1;33m=\u001b[0m\u001b[0mCar7\u001b[0m\u001b[1;33m(\u001b[0m\u001b[1;36m7\u001b[0m\u001b[1;33m,\u001b[0m\u001b[1;36m2010\u001b[0m\u001b[1;33m,\u001b[0m\u001b[1;36m22\u001b[0m\u001b[1;33m,\u001b[0m\u001b[1;34m'white'\u001b[0m\u001b[1;33m)\u001b[0m\u001b[1;33m\u001b[0m\u001b[1;33m\u001b[0m\u001b[0m\n\u001b[0;32m     10\u001b[0m \u001b[0mnano7\u001b[0m\u001b[1;33m.\u001b[0m\u001b[0mage\u001b[0m\u001b[1;33m(\u001b[0m\u001b[1;36m2022\u001b[0m\u001b[1;33m)\u001b[0m\u001b[1;33m\u001b[0m\u001b[1;33m\u001b[0m\u001b[0m\n",
      "\u001b[1;31mNameError\u001b[0m: name 'self' is not defined"
     ]
    }
   ],
   "source": [
    "class Car7:\n",
    "    def __init__(a,m,y,ma,c): \n",
    "        a.mileage=m\n",
    "        a.year=y\n",
    "        a.make=ma\n",
    "        a.color=c\n",
    "    def age(b,current_year):\n",
    "        return current_year - self.year      #self.year \n",
    "nano7=Car7(7,2010,22,'white') \n",
    "nano7.age(2022)\n",
    "\n",
    "#here we get error because we used 'b' as local pointer in age function."
   ]
  },
  {
   "cell_type": "code",
   "execution_count": 15,
   "metadata": {},
   "outputs": [
    {
     "data": {
      "text/plain": [
       "12"
      ]
     },
     "execution_count": 15,
     "metadata": {},
     "output_type": "execute_result"
    }
   ],
   "source": [
    "class Car7:\n",
    "    def __init__(a,m,y,ma,c): \n",
    "        a.mileage=m\n",
    "        a.year=y\n",
    "        a.make=ma\n",
    "        a.color=c\n",
    "    def age(b,current_year):\n",
    "        return current_year - b.year \n",
    "nano7=Car7(7,2010,22,'white') \n",
    "nano7.age(2022)\n"
   ]
  },
  {
   "cell_type": "markdown",
   "metadata": {},
   "source": [
    "-------------------------------------------------------"
   ]
  },
  {
   "cell_type": "code",
   "execution_count": 9,
   "metadata": {},
   "outputs": [],
   "source": [
    "class Car5:\n",
    "    def __init__(self,mileage,year,make,color):\n",
    "        self.mileage=mileage\n",
    "        self.year=year\n",
    "        self.make=make\n",
    "        self.color=color\n",
    "    def age(self,current_year):\n",
    "        return current_year - self.year\n",
    "    \n",
    "nano5=Car5(14,2012,202,'white')"
   ]
  },
  {
   "cell_type": "code",
   "execution_count": 10,
   "metadata": {},
   "outputs": [
    {
     "data": {
      "text/plain": [
       "<bound method Car5.age of <__main__.Car5 object at 0x000002147D5F54F0>>"
      ]
     },
     "execution_count": 10,
     "metadata": {},
     "output_type": "execute_result"
    }
   ],
   "source": [
    "nano5.age"
   ]
  },
  {
   "cell_type": "code",
   "execution_count": 11,
   "metadata": {},
   "outputs": [
    {
     "data": {
      "text/plain": [
       "10"
      ]
     },
     "execution_count": 11,
     "metadata": {},
     "output_type": "execute_result"
    }
   ],
   "source": [
    "nano5.age(2022)"
   ]
  },
  {
   "cell_type": "markdown",
   "metadata": {},
   "source": [
    "### Imp:"
   ]
  },
  {
   "cell_type": "markdown",
   "metadata": {},
   "source": [
    "1. We can use the variables mileage,year,make,color anywhere inside the class using self\n",
    "like self.mileage,self.year, self.make, self.color and \n",
    "2. outside the class with the object name like nano5.age, nano5.mileage\n",
    "\n",
    "> The same is applicable with functions (lets say a functions - f1 is defined in the class)\n",
    "We can call it using:\n",
    "self.f1 inside the class and nano.f1 outside the class"
   ]
  },
  {
   "cell_type": "markdown",
   "metadata": {},
   "source": [
    "----------------------------------------------"
   ]
  },
  {
   "cell_type": "code",
   "execution_count": 20,
   "metadata": {},
   "outputs": [
    {
     "name": "stdout",
     "output_type": "stream",
     "text": [
      "Hey there, the color of car is  red\n"
     ]
    }
   ],
   "source": [
    "class Cars:\n",
    "    def __init__(a,m,y,ma,c):\n",
    "        \n",
    "        a.mileage=m\n",
    "        a.year=y\n",
    "        a.make=ma\n",
    "        a.color=c\n",
    "        \n",
    "    def age(b,current_year):\n",
    "        return current_year - b.year\n",
    "    \n",
    "    def hey(self):\n",
    "        print('Hey there, the color of car is ', self.color)\n",
    "nanos=Cars(14,2012,202,'red')\n",
    "nanos.hey()"
   ]
  },
  {
   "cell_type": "code",
   "execution_count": 21,
   "metadata": {},
   "outputs": [
    {
     "name": "stdout",
     "output_type": "stream",
     "text": [
      "Hey there, the color of car is  white\n"
     ]
    }
   ],
   "source": [
    "class Cars:\n",
    "    def __init__(self,mileage,year,make,color):\n",
    "        self.mileage=mileage\n",
    "        self.year=year\n",
    "        self.make=make\n",
    "        self.color=color\n",
    "        \n",
    "    def age(self,current_year):\n",
    "        return current_year - self.year\n",
    "    \n",
    "    def hey1(self):\n",
    "        print('Hey there, the color of car is ', self.color)\n",
    "        \n",
    "nanos=Cars(14,2012,202,'white')\n",
    "nanos.hey1()"
   ]
  },
  {
   "cell_type": "code",
   "execution_count": 22,
   "metadata": {},
   "outputs": [
    {
     "data": {
      "text/plain": [
       "<__main__.Cars at 0x2147d6ae3a0>"
      ]
     },
     "execution_count": 22,
     "metadata": {},
     "output_type": "execute_result"
    }
   ],
   "source": [
    "nanos"
   ]
  },
  {
   "cell_type": "markdown",
   "metadata": {},
   "source": [
    "### __str__\n",
    "\n",
    "is used when we want to provide some messages when directly a object is printed"
   ]
  },
  {
   "cell_type": "code",
   "execution_count": 26,
   "metadata": {},
   "outputs": [
    {
     "name": "stdout",
     "output_type": "stream",
     "text": [
      "Hey there, the color of car is  white\n"
     ]
    }
   ],
   "source": [
    "class Cars:\n",
    "    def __init__(self,mileage,year,make,color):\n",
    "        self.mileage=mileage\n",
    "        self.year=year\n",
    "        self.make=make\n",
    "        self.color=color\n",
    "        \n",
    "    def age(self,current_year):\n",
    "        return current_year - self.year\n",
    "    \n",
    "    def hey1(self):\n",
    "        print('Hey there, the color of car is ', self.color)\n",
    "        \n",
    "    def __str__(self): \n",
    "        #str is used when we want to provide some messages when a object (which is intanties the class) is printed\n",
    "        return \"This is my car class that I had created\"\n",
    "        \n",
    "nanos=Cars(14,2012,202,'white')\n",
    "nanos.hey1()"
   ]
  },
  {
   "cell_type": "code",
   "execution_count": 27,
   "metadata": {},
   "outputs": [
    {
     "name": "stdout",
     "output_type": "stream",
     "text": [
      "This is my car class that I had created\n"
     ]
    }
   ],
   "source": [
    "print(nanos) #str is called by deafult when the object is called"
   ]
  },
  {
   "cell_type": "markdown",
   "metadata": {},
   "source": [
    "--------------------------------------"
   ]
  },
  {
   "cell_type": "code",
   "execution_count": 45,
   "metadata": {},
   "outputs": [
    {
     "name": "stdout",
     "output_type": "stream",
     "text": [
      "Duration of the class is: 2\n",
      "This is a student class for learning OOPS Concepts\n"
     ]
    },
    {
     "data": {
      "text/plain": [
       "'123'"
      ]
     },
     "execution_count": 45,
     "metadata": {},
     "output_type": "execute_result"
    }
   ],
   "source": [
    "class Student:\n",
    "    def __init__(self,name,rollno,joining_date,current_topic):\n",
    "        self.name=name\n",
    "        self.rollno=rollno\n",
    "        self.joining_date=joining_date\n",
    "        self.current_topic=current_topic\n",
    "        \n",
    "    def topic(self):\n",
    "        print(\"The current topic is\", self.current_topic)\n",
    "    \n",
    "    def str_roll(self):\n",
    "        if type(self.rollno) == str:\n",
    "            print(\"Do nothing\")\n",
    "        else:\n",
    "            return str(self.rollno)\n",
    "    \n",
    "    def duration(self,current_yr):\n",
    "        return (f'Duration of the class is: {current_yr-self.joining_date}')\n",
    "    \n",
    "    def __str__(self):\n",
    "        return \"This is a student class for learning OOPS Concepts\"\n",
    "    \n",
    "\n",
    "krish=Student('krishna',123,2020,'OOPS')\n",
    "\n",
    "\n",
    "print(krish.duration(2022))\n",
    "print(krish)\n",
    "krish.str_roll()"
   ]
  },
  {
   "cell_type": "code",
   "execution_count": 48,
   "metadata": {},
   "outputs": [
    {
     "name": "stdout",
     "output_type": "stream",
     "text": [
      "Duration of the class is: 3\n",
      "This is a student class for learning OOPS Concepts\n"
     ]
    },
    {
     "data": {
      "text/plain": [
       "'13'"
      ]
     },
     "execution_count": 48,
     "metadata": {},
     "output_type": "execute_result"
    }
   ],
   "source": [
    "krish2=Student('k',13,2020,'OOPS3')\n",
    "print(krish2.duration(2023))\n",
    "print(krish2)\n",
    "krish2.str_roll()"
   ]
  },
  {
   "cell_type": "markdown",
   "metadata": {},
   "source": [
    "--------------------------------------------"
   ]
  },
  {
   "cell_type": "code",
   "execution_count": 3,
   "metadata": {},
   "outputs": [
    {
     "name": "stdout",
     "output_type": "stream",
     "text": [
      "Duration of the class is: 2\n",
      "This is a student class for learning OOPS Concepts\n"
     ]
    },
    {
     "data": {
      "text/plain": [
       "'123'"
      ]
     },
     "execution_count": 3,
     "metadata": {},
     "output_type": "execute_result"
    }
   ],
   "source": [
    "class Student:\n",
    "    def __init__(self,name,rollno,joining_date,current_topic):\n",
    "        self.name=name\n",
    "        self.rollno=rollno\n",
    "        self.joining_date=joining_date\n",
    "        self.current_topic=current_topic\n",
    "      \n",
    "    \n",
    "    def name_parse(self):\n",
    "        if type(self.name) == list:\n",
    "            for i in self.name:\n",
    "                print(f'Name of student is: {i}')\n",
    "        else:\n",
    "            print('Names are not in list')\n",
    "    def topic(self):\n",
    "        print(\"The current topic is\", self.current_topic)\n",
    "    \n",
    "    def str_roll(self):\n",
    "        if type(self.rollno) == str:\n",
    "            print(\"Do nothing\")\n",
    "        else:\n",
    "            return str(self.rollno)\n",
    "    \n",
    "    def duration(self,current_yr):\n",
    "        return (f'Duration of the class is: {current_yr-self.joining_date}')\n",
    "    \n",
    "    def __str__(self):\n",
    "        return \"This is a student class for learning OOPS Concepts\"\n",
    "    \n",
    "\n",
    "krish=Student('krishna',123,2020,'OOPS')\n",
    "\n",
    "\n",
    "print(krish.duration(2022))\n",
    "print(krish)\n",
    "krish.str_roll()"
   ]
  },
  {
   "cell_type": "code",
   "execution_count": 4,
   "metadata": {},
   "outputs": [
    {
     "name": "stdout",
     "output_type": "stream",
     "text": [
      "Name of student is: n1\n",
      "Name of student is: n2\n",
      "Name of student is: n3\n"
     ]
    }
   ],
   "source": [
    "chandu=Student(['n1','n2','n3'], [1,2,3], 2021,'OOPS')\n",
    "chandu.name_parse()"
   ]
  },
  {
   "cell_type": "markdown",
   "metadata": {},
   "source": [
    "--------------------------------------------------"
   ]
  },
  {
   "cell_type": "markdown",
   "metadata": {},
   "source": [
    "### Task1:"
   ]
  },
  {
   "cell_type": "markdown",
   "metadata": {},
   "source": [
    "1. create a class - data, \n",
    "2. create class variables (variables in init): File_name, File_type, data, size\n",
    "3. create a function as File_open: create a file (from file_name) if it doesn't exist and writes something\n",
    "4. create a function as File_read: reads all the data in the file\n",
    "5. create a function as FIle_append: append new data in the same file and show it."
   ]
  },
  {
   "cell_type": "code",
   "execution_count": 1,
   "metadata": {},
   "outputs": [
    {
     "name": "stdout",
     "output_type": "stream",
     "text": [
      "This is the file\n"
     ]
    }
   ],
   "source": [
    "class Data:\n",
    "    def __init__(self,File_name, File_type, data, size):\n",
    "        self.File_name=File_name\n",
    "        self.File_type=File_type\n",
    "        self.data=data\n",
    "        self.size=size\n",
    "        \n",
    "    def File_open(self):\n",
    "        f=open(self.File_name,'w')\n",
    "        f.write('This is the file')\n",
    "        f.close\n",
    "        \n",
    "    def File_read(self):\n",
    "        f=open(self.File_name,'r')\n",
    "        print(f.read())\n",
    "        f.close\n",
    "    \n",
    "    def File_append(self):\n",
    "        f=open(self.File_name,'a')\n",
    "        f.write(\"Appending data to the file\")\n",
    "        f.close\n",
    "        \n",
    "file1=Data(\"file1\",'txt','23-02-2022','5MB')\n",
    "file1.File_open()\n",
    "file1.File_read()\n",
    "file1.File_append()"
   ]
  },
  {
   "attachments": {
    "image.png": {
     "image/png": "[encoded data removed]"
    }
   },
   "cell_type": "markdown",
   "metadata": {},
   "source": [
    "![image.png](attachment:image.png)"
   ]
  },
  {
   "cell_type": "code",
   "execution_count": 1,
   "metadata": {},
   "outputs": [
    {
     "name": "stdout",
     "output_type": "stream",
     "text": [
      "File name is: 0, date: 23-02-2022\n",
      "File name is: 1, date: 21-02-2022\n",
      "File name is: 2, date: 20-02-2022\n"
     ]
    }
   ],
   "source": [
    "#file name as list and data as tuple.\n",
    "\n",
    "class Data:\n",
    "    def __init__(self,File_name, File_type, data, size):\n",
    "        self.File_name=File_name\n",
    "        self.File_type=File_type\n",
    "        self.data=data\n",
    "        self.size=size\n",
    "        \n",
    "    def File_open(self):\n",
    "        for i in range(len(self.File_name)):\n",
    "            f=open(self.File_name[i],'w')\n",
    "            f.write(f'File name is: {i}, date: {self.data[i]}')\n",
    "            f.close\n",
    "        \n",
    "    def File_read(self):\n",
    "         for i in self.File_name:\n",
    "            f=open(i,'r')\n",
    "            print(f.read())\n",
    "            f.close\n",
    "    \n",
    "    def File_append(self):\n",
    "        for i in self.File_name:\n",
    "            f=open(i,'a')\n",
    "            f.write(\"Appending data to the file\")\n",
    "            f.close\n",
    "        \n",
    "Fe=Data([\"File1\",\"File2\",\"File3\"],'txt',('23-02-2022','21-02-2022','20-02-2022'),'5MB')\n",
    "Fe.File_open()\n",
    "Fe.File_read()\n",
    "Fe.File_append()"
   ]
  },
  {
   "attachments": {
    "image-2.png": {
     "image/png": "[encoded data removed]"
    },
    "image-3.png": {
     "image/png": "[encoded data removed]"
    },
    "image-4.png": {
     "image/png": "[encoded data removed]"
    },
    "image.png": {
     "image/png": "[encoded data removed]"
    }
   },
   "cell_type": "markdown",
   "metadata": {},
   "source": [
    "![image.png](attachment:image.png)\n",
    "\n",
    "![image-2.png](attachment:image-2.png)\n",
    "![image-3.png](attachment:image-3.png)\n",
    "![image-4.png](attachment:image-4.png)"
   ]
  },
  {
   "cell_type": "markdown",
   "metadata": {},
   "source": [
    "---------------------------------------------------"
   ]
  },
  {
   "cell_type": "markdown",
   "metadata": {},
   "source": [
    "### Task 2:"
   ]
  },
  {
   "cell_type": "markdown",
   "metadata": {},
   "source": [
    "1. create a class - data, \n",
    "2. create class variables: File_name, File_type, data, size\n",
    "3. create a function as File_open: create a file (from file_name) if it doesn't exist and writes something\n",
    "4. create a function as File_read: reads all the data in the file\n",
    "5. create a function as FIle_append: append new data in the same file and show it.\n",
    "\n",
    "\n",
    "implement exception handling and logger"
   ]
  },
  {
   "cell_type": "code",
   "execution_count": 3,
   "metadata": {},
   "outputs": [
    {
     "name": "stdout",
     "output_type": "stream",
     "text": [
      "Hey There, it seems the file you are trying to read has some issues, please check. [Errno 2] No such file or directory: 'hello.txt'\n"
     ]
    }
   ],
   "source": [
    "try:\n",
    "    f=open('hello.txt','r')\n",
    "    print(f.read())\n",
    "    f.close\n",
    "except Exception as e:\n",
    "    print('Hey There, it seems the file you are trying to read has some issues, please check.', e)"
   ]
  },
  {
   "cell_type": "code",
   "execution_count": 1,
   "metadata": {},
   "outputs": [
    {
     "name": "stdout",
     "output_type": "stream",
     "text": [
      "File11, date: 23-02-2022\n",
      "File21, date: 21-02-2022\n",
      "File31, date: 20-02-2022\n"
     ]
    }
   ],
   "source": [
    "#file name as list and data as tuple.\n",
    "\n",
    "import logging as lg\n",
    "\n",
    "class Data:\n",
    "    def __init__(self,File_name, File_type, data, size):\n",
    "        self.File_name=File_name\n",
    "        self.File_type=File_type\n",
    "        self.data=data\n",
    "        self.size=size\n",
    "     \n",
    "    def log(self,logit):\n",
    "        lg.basicConfig(filename='OOPS.log', level=lg.INFO)\n",
    "        lg.info(logit)\n",
    "\n",
    "    def File_open(self):\n",
    "        for i in range(len(self.File_name)):\n",
    "            f=open(self.File_name[i],'w')\n",
    "            self.log(f'{self.File_name[i]} is opened')\n",
    "            f.write(f'{self.File_name[i]}, date: {self.data[i]}')\n",
    "            self.log(f'written into {self.File_name[i]}')\n",
    "            f.close\n",
    "        \n",
    "    def File_read(self):\n",
    "        try:\n",
    "             for i in self.File_name:\n",
    "                f=open(i,'r')\n",
    "                print(f.read())\n",
    "                f.close\n",
    "        except Exception as e:\n",
    "            self.log(e)\n",
    "            print('Hey There, it seems the file you are trying to read has some issues, please check.',e)\n",
    "            \n",
    "    def File_append(self):\n",
    "        for i in self.File_name:\n",
    "            f=open(i,'a')\n",
    "            f.write(\"Appending data to the file\")\n",
    "            f.close\n",
    "        \n",
    "Fe=Data([\"File11\",\"File21\",\"File31\"],'txt',('23-02-2022','21-02-2022','20-02-2022'),'5MB')\n",
    "Fe.File_open()\n",
    "Fe.File_read()\n",
    "Fe.File_append()"
   ]
  },
  {
   "attachments": {
    "image-2.png": {
     "image/png": "[encoded data removed]"
    },
    "image-3.png": {
     "image/png": "[encoded data removed]"
    }
   },
   "cell_type": "markdown",
   "metadata": {},
   "source": [
    "![image-2.png](attachment:image-2.png)\n",
    "\n",
    "![image-3.png](attachment:image-3.png)"
   ]
  },
  {
   "cell_type": "code",
   "execution_count": null,
   "metadata": {},
   "outputs": [],
   "source": []
  },
  {
   "cell_type": "code",
   "execution_count": null,
   "metadata": {},
   "outputs": [],
   "source": []
  },
  {
   "cell_type": "code",
   "execution_count": null,
   "metadata": {},
   "outputs": [],
   "source": []
  }
 ],
 "metadata": {
  "kernelspec": {
   "display_name": "Python 3",
   "language": "python",
   "name": "python3"
  },
  "language_info": {
   "codemirror_mode": {
    "name": "ipython",
    "version": 3
   },
   "file_extension": ".py",
   "mimetype": "text/x-python",
   "name": "python",
   "nbconvert_exporter": "python",
   "pygments_lexer": "ipython3",
   "version": "3.8.5"
  }
 },
 "nbformat": 4,
 "nbformat_minor": 4
}
