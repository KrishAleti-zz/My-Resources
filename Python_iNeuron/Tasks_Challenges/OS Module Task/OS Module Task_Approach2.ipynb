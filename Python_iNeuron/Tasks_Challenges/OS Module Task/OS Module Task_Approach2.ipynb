{
 "cells": [
  {
   "cell_type": "code",
   "execution_count": 13,
   "metadata": {},
   "outputs": [
    {
     "name": "stdout",
     "output_type": "stream",
     "text": [
      "Requirement already satisfied: python-docx in c:\\users\\vinod\\anaconda3\\lib\\site-packages (0.8.10)\n",
      "Requirement already satisfied: lxml>=2.3.2 in c:\\users\\vinod\\anaconda3\\lib\\site-packages (from python-docx) (4.6.1)\n"
     ]
    }
   ],
   "source": [
    "def len_bef_num(string):\n",
    "    \"\"\"\n",
    "    Returns the string before any numberic character in it. The string is returned after stipping off '_' \n",
    "    \"\"\"\n",
    "    length=len(string)\n",
    "    for i in string:\n",
    "        if i.isnumeric():\n",
    "            length = string.find(i)\n",
    "            break\n",
    "    return string[:length:].replace('_','')\n",
    "\n",
    "def rename_file(name):\n",
    "    \"\"\"\n",
    "    This function renames the file by removing '(' and ')' from the file name.\n",
    "    The source file name has to be passed as an argument and the function will \n",
    "    rename the file and return destination file name.\n",
    "    \"\"\"\n",
    "    new_name = name.replace('(','').replace(')','')\n",
    "    os.rename(name,new_name)\n",
    "    return new_name\n",
    "\n",
    "!pip install python-docx\n",
    "import os\n",
    "import shutil\n",
    "from docx import Document\n",
    "\n",
    "# create an instance of a word document for creating a new document\n",
    "newdoc = Document()\n",
    "\n",
    "for i in os.listdir():\n",
    "    if i.find('.docx') >= 0:\n",
    "        # rename the file by removing '(' and ')'\n",
    "        new_name=rename_file(i)\n",
    "        \n",
    "        # get new folder name by taking the file name prior to numeric part and stripping off '-'\n",
    "        folder=len_bef_num(new_name)\n",
    "        \n",
    "        # Check if folder doesn't exist then create the folder\n",
    "        if not os.path.isdir(folder):\n",
    "            os.mkdir(folder)\n",
    "        \n",
    "        # add a heading of level 2 in the new document object\n",
    "        newdoc.add_heading(new_name, 2)\n",
    "        \n",
    "        # create an instance of a\n",
    "        # word document we want to open\n",
    "        doc = Document(new_name)\n",
    "        \n",
    "        # take the text from each para of the source document and add paragraphs and store\n",
    "        # the object in a variable\n",
    "        for para in doc.paragraphs:\n",
    "            doc_para = newdoc.add_paragraph(para.text)\n",
    "            \n",
    "        # add a page break to start a new page\n",
    "        newdoc.add_page_break()\n",
    "\n",
    "        shutil.move(os.getcwd()+'\\\\'+new_name,os.getcwd()+'\\\\'+folder)\n",
    "\n",
    "# now save the document to a location\n",
    "newdoc.save('Master document of all assignments.docx')"
   ]
  },
  {
   "cell_type": "code",
   "execution_count": null,
   "metadata": {},
   "outputs": [],
   "source": []
  }
 ],
 "metadata": {
  "kernelspec": {
   "display_name": "Python 3",
   "language": "python",
   "name": "python3"
  },
  "language_info": {
   "codemirror_mode": {
    "name": "ipython",
    "version": 3
   },
   "file_extension": ".py",
   "mimetype": "text/x-python",
   "name": "python",
   "nbconvert_exporter": "python",
   "pygments_lexer": "ipython3",
   "version": "3.8.5"
  }
 },
 "nbformat": 4,
 "nbformat_minor": 4
}
